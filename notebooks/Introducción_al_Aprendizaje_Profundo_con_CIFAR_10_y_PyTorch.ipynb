{
  "nbformat": 4,
  "nbformat_minor": 0,
  "metadata": {
    "colab": {
      "provenance": [],
      "collapsed_sections": [
        "yHVcgk9zXetp",
        "brweANo4IV4g"
      ]
    },
    "kernelspec": {
      "name": "python3",
      "display_name": "Python 3"
    },
    "language_info": {
      "name": "python"
    }
  },
  "cells": [
    {
      "cell_type": "markdown",
      "source": [
        "<image src=\"https://private-user-images.githubusercontent.com/105291217/331766287-4fd598b5-5574-4016-a9e0-91c5b79fda30.png?jwt=eyJhbGciOiJIUzI1NiIsInR5cCI6IkpXVCJ9.eyJpc3MiOiJnaXRodWIuY29tIiwiYXVkIjoicmF3LmdpdGh1YnVzZXJjb250ZW50LmNvbSIsImtleSI6ImtleTUiLCJleHAiOjE3MTYwMTEzNTIsIm5iZiI6MTcxNjAxMTA1MiwicGF0aCI6Ii8xMDUyOTEyMTcvMzMxNzY2Mjg3LTRmZDU5OGI1LTU1NzQtNDAxNi1hOWUwLTkxYzViNzlmZGEzMC5wbmc_WC1BbXotQWxnb3JpdGhtPUFXUzQtSE1BQy1TSEEyNTYmWC1BbXotQ3JlZGVudGlhbD1BS0lBVkNPRFlMU0E1M1BRSzRaQSUyRjIwMjQwNTE4JTJGdXMtZWFzdC0xJTJGczMlMkZhd3M0X3JlcXVlc3QmWC1BbXotRGF0ZT0yMDI0MDUxOFQwNTQ0MTJaJlgtQW16LUV4cGlyZXM9MzAwJlgtQW16LVNpZ25hdHVyZT1mNDY2ZDkyZDdjNmU1YmM3OWFlZjc2ZGUwZTNlZDljYzI3MTlhMmM1ZWQyOGVjOWZiNjMyNGFjODM4ODQ2NjI2JlgtQW16LVNpZ25lZEhlYWRlcnM9aG9zdCZhY3Rvcl9pZD0wJmtleV9pZD0wJnJlcG9faWQ9MCJ9.ydTioyxz227zlmy0FVopRTy_Q1kEI2ocbISoKuzdJbQ\" width=100%>"
      ],
      "metadata": {
        "id": "31TFGt_jOAEa"
      }
    },
    {
      "cell_type": "markdown",
      "source": [
        "Con PyTorch puedes aprovechar los últimos avances en inteligencia artificial para crear soluciones innovadoras para una amplia gama de aplicaciones, desde visión por computadora hasta procesamiento de lenguaje natural y más.\n",
        "\n",
        "También cuenta con el respaldo de una comunidad vibrante y solidaria de desarrolladores e investigadores. Esto significa que tendrás acceso a una gran cantidad de recursos, herramientas y conocimientos que lo ayudarán a mantenerse a la vanguardia de la investigación y el desarrollo de IA.\n",
        "\n",
        "Podrás apreciar cómo se ve un modelo relativamente sencillo. Sin embargo, esta siempre será la estructura de un modelo, no importa que sea de visión, transformers para procesamiento de lenguaje natural o reinforcement learning.\n",
        "\n",
        "Debajo de todo eso, por más complicado que suene, hay un modelo de este tipo. Y es lo que marca la creación del **machine learning moderno.**\n"
      ],
      "metadata": {
        "id": "gLCGVziOO-rF"
      }
    },
    {
      "cell_type": "markdown",
      "source": [
        "<div align=\"center\"> <image src=\"https://raw.githubusercontent.com/ramiro999/pytorch-exploration/main/images/pytorch_workflow.png\" width=800>  </div>"
      ],
      "metadata": {
        "id": "_iQB2z9wPN9K"
      }
    },
    {
      "cell_type": "markdown",
      "source": [
        "# **Introducción al Aprendizaje Profundo con CIFAR-10 y PyTorch**"
      ],
      "metadata": {
        "id": "mlESeOrp_Yn7"
      }
    },
    {
      "cell_type": "markdown",
      "source": [
        "## **Datos de prueba**\n"
      ],
      "metadata": {
        "id": "yHVcgk9zXetp"
      }
    },
    {
      "cell_type": "code",
      "execution_count": 1,
      "metadata": {
        "id": "oPb13IbW_Jg4",
        "colab": {
          "base_uri": "https://localhost:8080/"
        },
        "outputId": "cf81d7da-1a3b-4d83-c8a0-bbe2bd53dd42"
      },
      "outputs": [
        {
          "output_type": "stream",
          "name": "stdout",
          "text": [
            "MLP(\n",
            "  (fc1): Linear(in_features=20, out_features=50, bias=True)\n",
            "  (relu): ReLU()\n",
            "  (fc2): Linear(in_features=50, out_features=3, bias=True)\n",
            ")\n"
          ]
        }
      ],
      "source": [
        "import torch\n",
        "import torch.nn as nn\n",
        "import torch.optim as optim\n",
        "\n",
        "# Definición del modelo\n",
        "class MLP(nn.Module):\n",
        "    def __init__(self, input_size, hidden_size, num_classes):\n",
        "        super(MLP, self).__init__()\n",
        "        # Primera capa oculta que aplica una transformación lineal\n",
        "        self.fc1 = nn.Linear(input_size, hidden_size)\n",
        "        # Función de activación ReLU\n",
        "        self.relu = nn.ReLU()\n",
        "        # Capa de salida que aplica otra transformación lineal\n",
        "        self.fc2 = nn.Linear(hidden_size, num_classes)\n",
        "\n",
        "    def forward(self, x):\n",
        "        # Pasar la entrada por la primera capa, luego por ReLU\n",
        "        out = self.fc1(x)\n",
        "        out = self.relu(out)\n",
        "        # Pasar por la capa de salida\n",
        "        out = self.fc2(out)\n",
        "        return out\n",
        "\n",
        "# Establecer dimensiones\n",
        "input_size = 20   # por ejemplo, tamaño de la entrada\n",
        "hidden_size = 50  # número de neuronas en la capa oculta\n",
        "num_classes = 3   # número de clases de salida para la clasificación\n",
        "\n",
        "# Crear el modelo\n",
        "model = MLP(input_size, hidden_size, num_classes)\n",
        "\n",
        "# Definir la función de pérdida y el optimizador\n",
        "criterion = nn.CrossEntropyLoss()  # Adecuado para clasificación multiclase\n",
        "optimizer = optim.Adam(model.parameters(), lr=0.001)  # Optimizador Adam\n",
        "\n",
        "# Mostrar el modelo\n",
        "print(model)\n"
      ]
    },
    {
      "cell_type": "code",
      "source": [
        "import torch\n",
        "from torch.utils.data import DataLoader, TensorDataset\n",
        "\n",
        "# Simular datos de entrada\n",
        "num_samples = 100\n",
        "input_size = 20\n",
        "num_classes = 3\n",
        "\n",
        "# Generar datos aleatorios y etiquetas\n",
        "x_data = torch.randn(num_samples, input_size)\n",
        "y_labels = torch.randint(0, num_classes, (num_samples,))\n",
        "\n",
        "# Crear un dataset y dataloader\n",
        "dataset = TensorDataset(x_data, y_labels)\n",
        "dataloader = DataLoader(dataset, batch_size=10, shuffle=True)\n"
      ],
      "metadata": {
        "id": "O5_MXxT2IEWo"
      },
      "execution_count": 2,
      "outputs": []
    },
    {
      "cell_type": "code",
      "source": [
        "# Crear una instancia del modelo\n",
        "model = MLP(input_size, hidden_size=50, num_classes=num_classes)\n",
        "\n",
        "# Definir la función de pérdida y el optimizador\n",
        "criterion = nn.CrossEntropyLoss()\n",
        "optimizer = torch.optim.Adam(model.parameters(), lr=0.001)\n"
      ],
      "metadata": {
        "id": "8q5l2FdrIHVG"
      },
      "execution_count": 3,
      "outputs": []
    },
    {
      "cell_type": "code",
      "source": [
        "# Número de épocas\n",
        "epochs = 5\n",
        "\n",
        "# Bucle de entrenamiento\n",
        "for epoch in range(epochs):\n",
        "    for inputs, labels in dataloader:\n",
        "        # Poner a cero los gradientes del optimizador\n",
        "        optimizer.zero_grad()\n",
        "\n",
        "        # Forward pass\n",
        "        outputs = model(inputs)\n",
        "\n",
        "        # Calcular la pérdida\n",
        "        loss = criterion(outputs, labels)\n",
        "\n",
        "        # Backpropagation\n",
        "        loss.backward()\n",
        "\n",
        "        # Actualizar los parámetros del modelo\n",
        "        optimizer.step()\n",
        "\n",
        "    print(f'Epoch {epoch+1}, Loss: {loss.item()}')\n"
      ],
      "metadata": {
        "id": "1M8pqqwgIJK9",
        "colab": {
          "base_uri": "https://localhost:8080/"
        },
        "outputId": "d14f8ae5-7ebc-49be-db33-8bd24dae4b39"
      },
      "execution_count": 4,
      "outputs": [
        {
          "output_type": "stream",
          "name": "stdout",
          "text": [
            "Epoch 1, Loss: 1.0384643077850342\n",
            "Epoch 2, Loss: 0.9410896301269531\n",
            "Epoch 3, Loss: 1.0232130289077759\n",
            "Epoch 4, Loss: 1.0424506664276123\n",
            "Epoch 5, Loss: 0.9094728231430054\n"
          ]
        }
      ]
    },
    {
      "cell_type": "code",
      "source": [
        "# Generar datos de prueba\n",
        "x_test = torch.randn(10, input_size)\n",
        "y_test = torch.randint(0, num_classes, (10,))\n",
        "\n",
        "# Evaluar el modelo\n",
        "model.eval()  # Poner el modelo en modo de evaluación\n",
        "with torch.no_grad():  # Desactivar el cálculo de gradientes\n",
        "    predictions = model(x_test)\n",
        "    predicted_classes = torch.argmax(predictions, axis=1)\n",
        "\n",
        "# Mostrar las predicciones\n",
        "print(\"Predicted classes:\", predicted_classes)\n",
        "print(\"True classes:\", y_test)\n"
      ],
      "metadata": {
        "id": "MFbKTA5hILJ8",
        "colab": {
          "base_uri": "https://localhost:8080/"
        },
        "outputId": "d3d5bb20-2381-451e-a37b-3c3c40a0c7d1"
      },
      "execution_count": 5,
      "outputs": [
        {
          "output_type": "stream",
          "name": "stdout",
          "text": [
            "Predicted classes: tensor([0, 2, 2, 0, 2, 2, 2, 2, 2, 2])\n",
            "True classes: tensor([2, 1, 0, 2, 2, 0, 2, 1, 0, 1])\n"
          ]
        }
      ]
    },
    {
      "cell_type": "markdown",
      "source": [
        "## **CIFAR-10**"
      ],
      "metadata": {
        "id": "brweANo4IV4g"
      }
    },
    {
      "cell_type": "code",
      "source": [
        "import torch\n",
        "import torch.nn as nn\n",
        "import torch.optim as optim\n",
        "import torchvision\n",
        "import torchvision.transforms as transforms\n",
        "\n",
        "class MLP(nn.Module):\n",
        "    def __init__(self, input_size, hidden_size, num_classes):\n",
        "        super(MLP, self).__init__()\n",
        "        self.flatten = nn.Flatten()  # Aplanar las imágenes de entrada\n",
        "        self.fc1 = nn.Linear(input_size, hidden_size)\n",
        "        self.relu = nn.ReLU()\n",
        "        self.fc2 = nn.Linear(hidden_size, num_classes)\n",
        "\n",
        "    def forward(self, x):\n",
        "        x = self.flatten(x)  # Aplanar las imágenes\n",
        "        x = self.fc1(x)\n",
        "        x = self.relu(x)\n",
        "        x = self.fc2(x)\n",
        "        return x"
      ],
      "metadata": {
        "id": "dv1a_D2fIYCM"
      },
      "execution_count": 6,
      "outputs": []
    },
    {
      "cell_type": "code",
      "source": [
        "# Transformaciones para los datos\n",
        "transform = transforms.Compose(\n",
        "    [transforms.ToTensor(),\n",
        "     transforms.Normalize((0.5, 0.5, 0.5), (0.5, 0.5, 0.5))])\n",
        "\n",
        "# Cargar los conjuntos de datos de entrenamiento y prueba\n",
        "trainset = torchvision.datasets.CIFAR10(root='./data', train=True,\n",
        "                                        download=True, transform=transform)\n",
        "trainloader = torch.utils.data.DataLoader(trainset, batch_size=64,\n",
        "                                          shuffle=True)\n",
        "\n",
        "testset = torchvision.datasets.CIFAR10(root='./data', train=False,\n",
        "                                       download=True, transform=transform)\n",
        "testloader = torch.utils.data.DataLoader(testset, batch_size=64,\n",
        "                                         shuffle=False)\n"
      ],
      "metadata": {
        "id": "ag4hBaztIap0",
        "colab": {
          "base_uri": "https://localhost:8080/"
        },
        "outputId": "96e6d968-1fb5-43d2-ffa3-5d0d860e4451"
      },
      "execution_count": 7,
      "outputs": [
        {
          "output_type": "stream",
          "name": "stdout",
          "text": [
            "Downloading https://www.cs.toronto.edu/~kriz/cifar-10-python.tar.gz to ./data/cifar-10-python.tar.gz\n"
          ]
        },
        {
          "output_type": "stream",
          "name": "stderr",
          "text": [
            "100%|██████████| 170498071/170498071 [00:02<00:00, 73353533.90it/s]\n"
          ]
        },
        {
          "output_type": "stream",
          "name": "stdout",
          "text": [
            "Extracting ./data/cifar-10-python.tar.gz to ./data\n",
            "Files already downloaded and verified\n"
          ]
        }
      ]
    },
    {
      "cell_type": "code",
      "source": [
        "input_size = 32 * 32 * 3  # Imágenes de 32x32 con 3 canales de color\n",
        "hidden_size = 512  # Tamaño de la capa oculta\n",
        "num_classes = 10  # 10 clases en CIFAR-10\n",
        "\n",
        "model = MLP(input_size, hidden_size, num_classes)\n",
        "\n",
        "criterion = nn.CrossEntropyLoss()\n",
        "optimizer = optim.Adam(model.parameters(), lr=0.001)\n"
      ],
      "metadata": {
        "id": "Y7lTpGKSIcvV"
      },
      "execution_count": 8,
      "outputs": []
    },
    {
      "cell_type": "code",
      "source": [
        "epochs = 10\n",
        "\n",
        "for epoch in range(epochs):\n",
        "    running_loss = 0.0\n",
        "    for i, data in enumerate(trainloader, 0):\n",
        "        inputs, labels = data\n",
        "\n",
        "        optimizer.zero_grad()\n",
        "\n",
        "        outputs = model(inputs)\n",
        "        loss = criterion(outputs, labels)\n",
        "        loss.backward()\n",
        "        optimizer.step()\n",
        "\n",
        "        running_loss += loss.item()\n",
        "        if i % 200 == 199:    # imprimir cada 200 mini-lotes\n",
        "            print(f'Epoch {epoch + 1}, Batch {i + 1}, Loss: {running_loss / 200:.3f}')\n",
        "            running_loss = 0.0\n",
        "\n",
        "print('Finished Training')\n"
      ],
      "metadata": {
        "id": "ivj51AUXIejo",
        "colab": {
          "base_uri": "https://localhost:8080/"
        },
        "outputId": "40a4f4e7-f0f3-4724-9188-e1a0a9fd5ad5"
      },
      "execution_count": 9,
      "outputs": [
        {
          "output_type": "stream",
          "name": "stdout",
          "text": [
            "Epoch 1, Batch 200, Loss: 1.817\n",
            "Epoch 1, Batch 400, Loss: 1.658\n",
            "Epoch 1, Batch 600, Loss: 1.587\n",
            "Epoch 2, Batch 200, Loss: 1.492\n",
            "Epoch 2, Batch 400, Loss: 1.481\n",
            "Epoch 2, Batch 600, Loss: 1.469\n",
            "Epoch 3, Batch 200, Loss: 1.390\n",
            "Epoch 3, Batch 400, Loss: 1.387\n",
            "Epoch 3, Batch 600, Loss: 1.387\n",
            "Epoch 4, Batch 200, Loss: 1.285\n",
            "Epoch 4, Batch 400, Loss: 1.325\n",
            "Epoch 4, Batch 600, Loss: 1.321\n",
            "Epoch 5, Batch 200, Loss: 1.230\n",
            "Epoch 5, Batch 400, Loss: 1.242\n",
            "Epoch 5, Batch 600, Loss: 1.256\n",
            "Epoch 6, Batch 200, Loss: 1.167\n",
            "Epoch 6, Batch 400, Loss: 1.171\n",
            "Epoch 6, Batch 600, Loss: 1.203\n",
            "Epoch 7, Batch 200, Loss: 1.075\n",
            "Epoch 7, Batch 400, Loss: 1.135\n",
            "Epoch 7, Batch 600, Loss: 1.176\n",
            "Epoch 8, Batch 200, Loss: 1.057\n",
            "Epoch 8, Batch 400, Loss: 1.093\n",
            "Epoch 8, Batch 600, Loss: 1.074\n",
            "Epoch 9, Batch 200, Loss: 1.000\n",
            "Epoch 9, Batch 400, Loss: 1.028\n",
            "Epoch 9, Batch 600, Loss: 1.038\n",
            "Epoch 10, Batch 200, Loss: 0.939\n",
            "Epoch 10, Batch 400, Loss: 0.992\n",
            "Epoch 10, Batch 600, Loss: 1.005\n",
            "Finished Training\n"
          ]
        }
      ]
    },
    {
      "cell_type": "code",
      "source": [
        "correct = 0\n",
        "total = 0\n",
        "with torch.no_grad():\n",
        "    for data in testloader:\n",
        "        images, labels = data\n",
        "        outputs = model(images)\n",
        "        _, predicted = torch.max(outputs.data, 1)\n",
        "        total += labels.size(0)\n",
        "        correct += (predicted == labels).sum().item()\n",
        "\n",
        "print('Accuracy of the network on the 10000 test images: %d %%' % (\n",
        "    100 * correct / total))\n"
      ],
      "metadata": {
        "id": "3qeVArEnIglb",
        "colab": {
          "base_uri": "https://localhost:8080/"
        },
        "outputId": "01ce5bf8-9fe0-4133-d99b-f264b933b483"
      },
      "execution_count": 10,
      "outputs": [
        {
          "output_type": "stream",
          "name": "stdout",
          "text": [
            "Accuracy of the network on the 10000 test images: 52 %\n"
          ]
        }
      ]
    },
    {
      "cell_type": "code",
      "source": [
        "import matplotlib.pyplot as plt\n",
        "import numpy as np\n",
        "\n",
        "# Función para desnormalizar y mostrar la imagen\n",
        "def imshow(img):\n",
        "    img = img / 2 + 0.5  # desnormalizar\n",
        "    npimg = img.numpy()\n",
        "    plt.imshow(np.transpose(npimg, (1, 2, 0)))  # Convertir de Tensor a imagen\n",
        "    plt.show()\n",
        "\n",
        "# Obtener algunas imágenes aleatorias del conjunto de datos\n",
        "dataiter = iter(testloader)\n",
        "images, labels = dataiter.__next__()\n",
        "\n",
        "# Mostrar imágenes\n",
        "imshow(torchvision.utils.make_grid(images[:4]))\n",
        "# Imprimir las etiquetas\n",
        "print('Labels:', ' '.join('%5s' % testset.classes[labels[j]] for j in range(4)))\n"
      ],
      "metadata": {
        "id": "PCpeTTYYN9DT",
        "colab": {
          "base_uri": "https://localhost:8080/",
          "height": 210
        },
        "outputId": "d3a14881-a042-4ba9-a183-ebea5891e8a2"
      },
      "execution_count": 11,
      "outputs": [
        {
          "output_type": "display_data",
          "data": {
            "text/plain": [
              "<Figure size 640x480 with 1 Axes>"
            ],
            "image/png": "[encoded data removed]"
          },
          "metadata": {}
        },
        {
          "output_type": "stream",
          "name": "stdout",
          "text": [
            "Labels:   cat  ship  ship airplane\n"
          ]
        }
      ]
    }
  ]
}